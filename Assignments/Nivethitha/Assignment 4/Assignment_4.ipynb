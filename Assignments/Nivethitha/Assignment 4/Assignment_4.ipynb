{
  "nbformat": 4,
  "nbformat_minor": 0,
  "metadata": {
    "colab": {
      "provenance": [],
      "collapsed_sections": []
    },
    "kernelspec": {
      "name": "python3",
      "display_name": "Python 3"
    },
    "language_info": {
      "name": "python"
    }
  },
  "cells": [
    {
      "cell_type": "markdown",
      "source": [
        "#Import required libraries"
      ],
      "metadata": {
        "id": "Ezd6e-o-HAJb"
      }
    },
    {
      "cell_type": "code",
      "execution_count": 1,
      "metadata": {
        "id": "6n6nC83qG4PV"
      },
      "outputs": [],
      "source": [
        "import pandas as pd\n",
        "import seaborn as sns\n",
        "from sklearn.model_selection import train_test_split\n",
        "from sklearn.preprocessing import LabelEncoder\n",
        "from keras.models import Model\n",
        "from keras.layers import LSTM, Activation, Dense, Dropout, Input, Embedding\n",
        "from keras.optimizers import RMSprop\n",
        "from keras.preprocessing.text import Tokenizer\n",
        "from keras.preprocessing import sequence\n",
        "from keras.utils import pad_sequences\n",
        "from keras.utils import to_categorical\n",
        "from keras.callbacks import EarlyStopping"
      ]
    },
    {
      "cell_type": "markdown",
      "source": [
        "#Read dataset and do pre-processing"
      ],
      "metadata": {
        "id": "r43d1FtuHju-"
      }
    },
    {
      "cell_type": "code",
      "source": [
        "df = pd.read_csv(\n",
        "    'sample_data/spam.csv',\n",
        "    delimiter = ',',\n",
        "    encoding = 'latin-1'\n",
        ")\n",
        "df.drop(\n",
        "    ['Unnamed: 2', 'Unnamed: 3', 'Unnamed: 4'],\n",
        "    axis = 1,\n",
        "    inplace = True\n",
        ")\n",
        "X = df.v2\n",
        "Y = df.v1\n",
        "le = LabelEncoder()\n",
        "Y = le.fit_transform(Y)\n",
        "Y = Y.reshape(-1, 1)\n",
        "X_train, X_test, Y_train, Y_test = train_test_split(\n",
        "    X,\n",
        "    Y,\n",
        "    test_size = 0.15\n",
        ")\n",
        "max_words = 1000\n",
        "max_len = 150\n",
        "tok = Tokenizer(num_words = max_words)\n",
        "tok.fit_on_texts(X_train)\n",
        "sequences = tok.texts_to_sequences(X_train)\n",
        "sequences_matrix = pad_sequences(sequences, maxlen = max_len)"
      ],
      "metadata": {
        "id": "da4kXbwhHltE"
      },
      "execution_count": 3,
      "outputs": []
    },
    {
      "cell_type": "markdown",
      "source": [
        "#Add Layers (LSTM, Dense-(Hidden Layers), Output)"
      ],
      "metadata": {
        "id": "6LxtTL49IKBT"
      }
    },
    {
      "cell_type": "code",
      "source": [
        "def RNN():\n",
        "    inputs = Input(name = 'inputs', shape = [max_len])\n",
        "    layer = Embedding(max_words, 50, input_length = max_len)(inputs)\n",
        "    layer = LSTM(64)(layer)\n",
        "    layer = Dense(256,name = 'FC1')(layer)\n",
        "    layer = Activation('relu')(layer)\n",
        "    layer = Dropout(0.5)(layer)\n",
        "    layer = Dense(1,name = 'out_layer')(layer)\n",
        "    layer = Activation('sigmoid')(layer)\n",
        "    model = Model(inputs = inputs, outputs = layer)\n",
        "    return model"
      ],
      "metadata": {
        "id": "REh0MIFLIOiT"
      },
      "execution_count": 4,
      "outputs": []
    },
    {
      "cell_type": "markdown",
      "source": [
        "#Create model"
      ],
      "metadata": {
        "id": "UmSMdABuIToW"
      }
    },
    {
      "cell_type": "code",
      "source": [
        "model = RNN()"
      ],
      "metadata": {
        "id": "aD1hIlhjIaF0"
      },
      "execution_count": 5,
      "outputs": []
    },
    {
      "cell_type": "markdown",
      "source": [
        "#Compile the model"
      ],
      "metadata": {
        "id": "xjNFrNfTIcGE"
      }
    },
    {
      "cell_type": "code",
      "source": [
        "model.compile(loss = 'binary_crossentropy', optimizer = RMSprop(), metrics = ['accuracy'])"
      ],
      "metadata": {
        "id": "bZfrkhsHIgje"
      },
      "execution_count": 6,
      "outputs": []
    },
    {
      "cell_type": "markdown",
      "source": [
        "#Fit the model"
      ],
      "metadata": {
        "id": "YThMGty9IoR1"
      }
    },
    {
      "cell_type": "code",
      "source": [
        "model.fit(\n",
        "    sequences_matrix,\n",
        "    Y_train,\n",
        "    batch_size = 128,\n",
        "    epochs=10,\n",
        "    validation_split = 0.2,\n",
        "    callbacks=[EarlyStopping(monitor = 'val_loss', min_delta = 0.0001)])"
      ],
      "metadata": {
        "colab": {
          "base_uri": "https://localhost:8080/"
        },
        "id": "msz3NYeTIsYA",
        "outputId": "cb9268e8-35d6-4e65-c1c0-8bd022960565"
      },
      "execution_count": 7,
      "outputs": [
        {
          "output_type": "stream",
          "name": "stdout",
          "text": [
            "Epoch 1/10\n",
            "30/30 [==============================] - 12s 296ms/step - loss: 0.3357 - accuracy: 0.8672 - val_loss: 0.1516 - val_accuracy: 0.9757\n",
            "Epoch 2/10\n",
            "30/30 [==============================] - 8s 272ms/step - loss: 0.0924 - accuracy: 0.9762 - val_loss: 0.0530 - val_accuracy: 0.9873\n"
          ]
        },
        {
          "output_type": "execute_result",
          "data": {
            "text/plain": [
              "<keras.callbacks.History at 0x7fdb374d5250>"
            ]
          },
          "metadata": {},
          "execution_count": 7
        }
      ]
    },
    {
      "cell_type": "markdown",
      "source": [
        "#Save the model"
      ],
      "metadata": {
        "id": "V6l08XjqIvt2"
      }
    },
    {
      "cell_type": "code",
      "source": [
        "model.save('./spam.h5')"
      ],
      "metadata": {
        "id": "ehEFQ-MOI2zA"
      },
      "execution_count": 8,
      "outputs": []
    },
    {
      "cell_type": "markdown",
      "source": [
        "#Test the model"
      ],
      "metadata": {
        "id": "R6OrgPDUI_e-"
      }
    },
    {
      "cell_type": "code",
      "source": [
        "test_sequences = tok.texts_to_sequences(X_test)\n",
        "test_sequences_matrix = pad_sequences(test_sequences, maxlen = max_len)\n",
        "accr = model.evaluate(test_sequences_matrix, Y_test)\n",
        "print('Test set\\n  Loss: {:0.3f}\\n  Accuracy: {:0.3f}'.format(accr[0],accr[1]))"
      ],
      "metadata": {
        "colab": {
          "base_uri": "https://localhost:8080/"
        },
        "id": "BHP7Hx2WJLm-",
        "outputId": "2273070b-c038-449a-a1d0-a44ef23b3048"
      },
      "execution_count": 9,
      "outputs": [
        {
          "output_type": "stream",
          "name": "stdout",
          "text": [
            "27/27 [==============================] - 1s 26ms/step - loss: 0.0550 - accuracy: 0.9880\n",
            "Test set\n",
            "  Loss: 0.055\n",
            "  Accuracy: 0.988\n"
          ]
        }
      ]
    }
  ]
}